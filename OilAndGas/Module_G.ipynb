{
 "cells": [
  {
   "cell_type": "markdown",
   "id": "3bd27420",
   "metadata": {},
   "source": [
    "# Модуль Г. Сетевой анализ данных (Вариатив)"
   ]
  },
  {
   "cell_type": "markdown",
   "id": "1a12c86d",
   "metadata": {},
   "source": [
    "## Задание"
   ]
  },
  {
   "cell_type": "markdown",
   "id": "c2ec8b3a",
   "metadata": {},
   "source": [
    "**Краткое описание задания:** выявление связей и взаимодействия между элементами с использованием базовых методов дискретной математики, в том числе реализация инструментов визуализации. Определение ключевых элементов графа. Предложение рекомендаций на основе анализа данных.\n",
    "\n",
    "У вас есть данные о нефтяном месторождении, включающие информацию о координатах скважин, их производительности, глубине, типе нефти и др. Ваша задача – реализовать инструмент для аналитика с функционалом построения сети взаимосвязей между скважинами на основе физических и технических характеристик скважин. Затем провести сетевой анализ для определения наиболее важных узлов сети, оптимальных путей для транспортировки нефти, выявления узких мест и оптимизации логистических процессов.\n",
    "\n",
    "**Результат модуля:** создание модульного инструмента сетевого анализа с указанием основных метрик и их описанием или визуализация графа с использованием специализированного программного обеспечения и его описанием, а также с рекомендациями (в формате docx)"
   ]
  },
  {
   "cell_type": "markdown",
   "id": "8240d0e5",
   "metadata": {},
   "source": [
    "# 1. Разделение данных на узлы и рёбра"
   ]
  },
  {
   "cell_type": "markdown",
   "id": "5e5f9454",
   "metadata": {},
   "source": [
    "Для реализации инструмента сетевого анализа в Gephi, нужно подготовить данные так, чтобы они могли быть загружены в Gephi для дальнейшего анализа. Для этого мы будем строить сеть на основе взаимосвязей между скважинами по их физическим и техническим характеристикам.\n",
    "\n",
    "Подготовка данных:\n",
    "\n",
    "Извлечем координаты скважин.\n",
    "Построим матрицу смежности, где связи между скважинами будут определяться по определенным правилам (например, по расстоянию или схожести технических характеристик).\n",
    "Экспорт данных для Gephi:\n",
    "\n",
    "Создадим два файла: один для узлов (скважин) и один для связей между ними."
   ]
  },
  {
   "cell_type": "code",
   "execution_count": 15,
   "id": "08ec64b2",
   "metadata": {},
   "outputs": [
    {
     "name": "stdout",
     "output_type": "stream",
     "text": [
      "Updated nodes CSV saved to: nodes_oil_unique.csv\n",
      "Edges CSV saved to: edges_oil_unique.csv\n"
     ]
    }
   ],
   "source": [
    "import pandas as pd\n",
    "import re\n",
    "from geopy.distance import great_circle\n",
    "from sklearn.neighbors import NearestNeighbors\n",
    "import numpy as np\n",
    "\n",
    "# Загрузка данных\n",
    "file_path = 'oil-and-gas-dataframe.xlsx'\n",
    "oil_data = pd.read_excel(file_path)\n",
    "\n",
    "# Функция для извлечения координат из строки\n",
    "def extract_coordinates(location_str):\n",
    "    match = re.search(r\"\\(([^)]+)\\)\", location_str)\n",
    "    if match:\n",
    "        lat, lon = map(float, match.group(1).split(\",\"))\n",
    "        return lat, lon\n",
    "    else:\n",
    "        return None, None\n",
    "\n",
    "# Извлечение координат\n",
    "oil_data[['Latitude', 'Longitude']] = oil_data['Location'].apply(lambda x: pd.Series(extract_coordinates(x)))\n",
    "\n",
    "# Очистка координат от лишних пробелов и символов\n",
    "oil_data['Latitude'] = oil_data['Latitude'].apply(lambda x: str(x).strip())\n",
    "oil_data['Longitude'] = oil_data['Longitude'].apply(lambda x: str(x).strip())\n",
    "\n",
    "# Определение порога расстояния в километрах\n",
    "distance_threshold = 50  # например, 50 км\n",
    "\n",
    "# Выборка данных для демонстрационных целей\n",
    "sample_size = 100  # использование выборки из 100 скважин для быстрого вычисления\n",
    "sampled_oil_data = oil_data.sample(n=sample_size, random_state=42)\n",
    "sample_coordinates = sampled_oil_data[['Latitude', 'Longitude']].dropna().values\n",
    "\n",
    "# Модель ближайших соседей для выборки\n",
    "nbrs_sampled = NearestNeighbors(n_neighbors=5, algorithm='ball_tree').fit(sample_coordinates)\n",
    "distances_sampled, indices_sampled = nbrs_sampled.kneighbors(sample_coordinates)\n",
    "\n",
    "# Создание ребер на основе порога расстояния для выборки\n",
    "edges_sampled = []\n",
    "\n",
    "for i, (distance_row, index_row) in enumerate(zip(distances_sampled, indices_sampled)):\n",
    "    for dist, idx in zip(distance_row, index_row):\n",
    "        if dist <= distance_threshold and i != idx:\n",
    "            source = sampled_oil_data.iloc[i]['Location']\n",
    "            target = sampled_oil_data.iloc[idx]['Location']\n",
    "            edges_sampled.append((source, target, dist))\n",
    "\n",
    "# Преобразование списка ребер в DataFrame\n",
    "edges_df_sampled = pd.DataFrame(edges_sampled, columns=['Source', 'Target', 'Distance'])\n",
    "\n",
    "# Удаление дублирующихся ребер\n",
    "edges_df_sampled = edges_df_sampled.drop_duplicates(subset=['Source', 'Target'])\n",
    "\n",
    "# Подготовка данных для узлов\n",
    "nodes_df_sampled = sampled_oil_data[['Location', 'Latitude', 'Longitude']].copy()\n",
    "nodes_df_sampled.rename(columns={'Location': 'Id'}, inplace=True)\n",
    "\n",
    "# Очистка идентификаторов узлов от лишних пробелов и символов\n",
    "nodes_df_sampled['Id'] = nodes_df_sampled['Id'].str.strip().str.replace(r'[^a-zA-Z0-9]', '')\n",
    "\n",
    "# Удаление дублирующихся узлов\n",
    "nodes_df_unique = nodes_df_sampled.drop_duplicates(subset='Id')\n",
    "\n",
    "# Сохранение узлов и ребер в CSV файлы\n",
    "nodes_csv_path = 'nodes_oil_unique.csv'\n",
    "edges_csv_path = 'edges_oil_unique.csv'\n",
    "\n",
    "nodes_df_unique.to_csv(nodes_csv_path, index=False, sep=',')\n",
    "edges_df_sampled.to_csv(edges_csv_path, index=False, sep=',')\n",
    "\n",
    "print(f'Updated nodes CSV saved to: {nodes_csv_path}')\n",
    "print(f'Edges CSV saved to: {edges_csv_path}')\n"
   ]
  },
  {
   "cell_type": "code",
   "execution_count": null,
   "id": "efc9ff6f",
   "metadata": {},
   "outputs": [],
   "source": []
  }
 ],
 "metadata": {
  "kernelspec": {
   "display_name": "Python 3 (ipykernel)",
   "language": "python",
   "name": "python3"
  },
  "language_info": {
   "codemirror_mode": {
    "name": "ipython",
    "version": 3
   },
   "file_extension": ".py",
   "mimetype": "text/x-python",
   "name": "python",
   "nbconvert_exporter": "python",
   "pygments_lexer": "ipython3",
   "version": "3.9.13"
  }
 },
 "nbformat": 4,
 "nbformat_minor": 5
}
